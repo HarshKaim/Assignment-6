{
 "cells": [
  {
   "cell_type": "code",
   "execution_count": 1,
   "id": "80f54b5e",
   "metadata": {},
   "outputs": [],
   "source": [
    "# Q1, Create a vehicle class with an init method having instance variables as name_of_vehicle, max_speed and average_of_vehicle.\n",
    "\n",
    "class vehicle:\n",
    "    \n",
    "    def __init__(self, name_of_vehicle, max_speed, average_of_vehicle):\n",
    "        self.name_of_vehicle=name_of_vehicle\n",
    "        self.max_speed=max_speed\n",
    "        self.average_of_vehicle=average_of_vehicle"
   ]
  },
  {
   "cell_type": "code",
   "execution_count": 19,
   "id": "88635f1f",
   "metadata": {},
   "outputs": [],
   "source": [
    "# Q2. Create a child class car from the vehicle class created in Que 1, which will inherit the vehicle class.\n",
    "# Create a method named seating_capacity which takes capacity as an argument and returns the name of\n",
    "# the vehicle and its seating capacity.\n",
    "\n",
    "class child(vehicle):\n",
    "    \n",
    "    def setaing_capacity(self,capacity):\n",
    "        return self.name_of_vehicle,capacity"
   ]
  },
  {
   "cell_type": "code",
   "execution_count": 23,
   "id": "41279d32",
   "metadata": {},
   "outputs": [],
   "source": [
    "temp=child('x',2,3)"
   ]
  },
  {
   "cell_type": "code",
   "execution_count": 24,
   "id": "306bae21",
   "metadata": {},
   "outputs": [
    {
     "data": {
      "text/plain": [
       "('x', 4)"
      ]
     },
     "execution_count": 24,
     "metadata": {},
     "output_type": "execute_result"
    }
   ],
   "source": [
    "temp.setaing_capacity(4)"
   ]
  },
  {
   "cell_type": "code",
   "execution_count": 25,
   "id": "253c2386",
   "metadata": {},
   "outputs": [],
   "source": [
    "# Q3. What is multiple inheritance? Write a python code to demonstrate multiple inheritance.\n",
    "# Ans. Multiple Inheritance: Class I inherits property of class H as well as Class G\n",
    "\n",
    "#Multiple Inheritance\n",
    "\n",
    "class G:\n",
    "    \n",
    "    def fun1(self):\n",
    "        print('This is class A function')\n",
    "        \n",
    "class H:\n",
    "    \n",
    "    def fun2(self):\n",
    "        print('This is class B function')\n",
    "        \n",
    "class I(G,H):\n",
    "    \n",
    "    def fun3(self):\n",
    "        print('This is class C function')"
   ]
  },
  {
   "cell_type": "code",
   "execution_count": 26,
   "id": "f9a55961",
   "metadata": {},
   "outputs": [
    {
     "name": "stdout",
     "output_type": "stream",
     "text": [
      "This is class C function\n",
      "This is class B function\n",
      "This is class A function\n"
     ]
    }
   ],
   "source": [
    "obj=I()\n",
    "obj.fun3()\n",
    "obj.fun2()\n",
    "obj.fun1()"
   ]
  },
  {
   "cell_type": "code",
   "execution_count": 27,
   "id": "40491abb",
   "metadata": {},
   "outputs": [],
   "source": [
    "# Q4. What are getter and setter in python? Create a class and create a getter and a setter method in this class.\n",
    "\n",
    "# Ans. Getter and setters are property methods that are used to get the value of a private member or set the value of the private member\n",
    "\n",
    "class temp:\n",
    "    \n",
    "    def __init__(self, num):\n",
    "        self.__num=num\n",
    "        \n",
    "    @property\n",
    "    def numgetter(self): # Getter function\n",
    "        return self.__num\n",
    "    \n",
    "    @numgetter.setter # Setter function\n",
    "    def numsetter(self,value):\n",
    "        self.__num=value"
   ]
  },
  {
   "cell_type": "code",
   "execution_count": null,
   "id": "42ae8733",
   "metadata": {},
   "outputs": [],
   "source": [
    "# Q5.What is method overriding in python? Write a python code to demonstrate method overriding.\n",
    "# Ans. Method overriding is an ability of any object-oriented programming language that allows a subclass or child class to provide a specific implementation of a method that is already provided by one of its super-classes or parent classes. When a method in a subclass has the same name, same parameters or signature and same return type(or sub-type) as a method in its super-class, then the method in the subclass is said to override the method in the super-class.\n",
    "\n",
    "class Parent():\n",
    "      \n",
    "    def __init__(self):\n",
    "        self.value = \"Inside Parent\"\n",
    "          \n",
    "    def show(self):\n",
    "        print(self.value)\n",
    "          \n",
    "# Defining child class\n",
    "class Child(Parent):\n",
    "      \n",
    "    # Constructor\n",
    "    def __init__(self):\n",
    "        self.value = \"Inside Child\"\n",
    "          \n",
    "  \n",
    "    def show(self):\n",
    "        print(self.value)\n",
    "          \n",
    "          \n",
    "# Driver's code\n",
    "obj1 = Parent()\n",
    "obj2 = Child()\n",
    "  \n",
    "obj1.show()\n",
    "obj2.show()"
   ]
  }
 ],
 "metadata": {
  "kernelspec": {
   "display_name": "Python 3 (ipykernel)",
   "language": "python",
   "name": "python3"
  },
  "language_info": {
   "codemirror_mode": {
    "name": "ipython",
    "version": 3
   },
   "file_extension": ".py",
   "mimetype": "text/x-python",
   "name": "python",
   "nbconvert_exporter": "python",
   "pygments_lexer": "ipython3",
   "version": "3.9.12"
  }
 },
 "nbformat": 4,
 "nbformat_minor": 5
}
